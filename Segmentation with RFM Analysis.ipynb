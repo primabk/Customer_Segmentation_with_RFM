{
 "cells": [
  {
   "cell_type": "markdown",
   "id": "juvenile-ladder",
   "metadata": {},
   "source": [
    "# Introduction"
   ]
  },
  {
   "cell_type": "markdown",
   "id": "brazilian-transportation",
   "metadata": {},
   "source": [
    "**Objective**<br>\n",
    "* Build model for cutomer segmentation from the [Retail_Transaction_Data | Kaggle](https://www.kaggle.com/regivm/retailtransactiondata?select=Retail_Data_Response.csv)"
   ]
  },
  {
   "cell_type": "code",
   "execution_count": 1,
   "id": "grave-proof",
   "metadata": {},
   "outputs": [],
   "source": [
    "import warnings\n",
    "warnings.filterwarnings(\"ignore\")\n",
    "\n",
    "import numpy as np\n",
    "import pandas as pd\n",
    "import seaborn as sns\n",
    "import matplotlib.pyplot as plt\n",
    "%matplotlib inline\n",
    "import plotly.express as px\n",
    "from IPython.display import Image\n",
    "from plotly.subplots import make_subplots\n",
    "\n",
    "from sklearn.preprocessing import MinMaxScaler, StandardScaler\n",
    "from imblearn import over_sampling\n",
    "from sklearn.cluster import KMeans, k_means, AgglomerativeClustering\n",
    "from sklearn.decomposition import PCA\n",
    "\n",
    "#sns.set(rc={'figure.figsize':(16,8)})\n",
    "#sns.set_style(\"whitegrid\")\n",
    "#sns.color_palette(\"dark\")\n",
    "#plt.style.use(\"fivethirtyeight\")"
   ]
  },
  {
   "cell_type": "markdown",
   "id": "verified-toner",
   "metadata": {},
   "source": [
    "# Load & Describe Data"
   ]
  },
  {
   "cell_type": "markdown",
   "id": "hungarian-stick",
   "metadata": {},
   "source": [
    "## Load Data"
   ]
  },
  {
   "cell_type": "code",
   "execution_count": 2,
   "id": "equal-dover",
   "metadata": {},
   "outputs": [
    {
     "name": "stdout",
     "output_type": "stream",
     "text": [
      "Toal Rows:  125000\n",
      "Total Features:  3\n"
     ]
    },
    {
     "data": {
      "text/html": [
       "<div>\n",
       "<style scoped>\n",
       "    .dataframe tbody tr th:only-of-type {\n",
       "        vertical-align: middle;\n",
       "    }\n",
       "\n",
       "    .dataframe tbody tr th {\n",
       "        vertical-align: top;\n",
       "    }\n",
       "\n",
       "    .dataframe thead th {\n",
       "        text-align: right;\n",
       "    }\n",
       "</style>\n",
       "<table border=\"1\" class=\"dataframe\">\n",
       "  <thead>\n",
       "    <tr style=\"text-align: right;\">\n",
       "      <th></th>\n",
       "      <th>customer_id</th>\n",
       "      <th>trans_date</th>\n",
       "      <th>tran_amount</th>\n",
       "    </tr>\n",
       "  </thead>\n",
       "  <tbody>\n",
       "    <tr>\n",
       "      <th>0</th>\n",
       "      <td>CS5295</td>\n",
       "      <td>11-Feb-13</td>\n",
       "      <td>35</td>\n",
       "    </tr>\n",
       "    <tr>\n",
       "      <th>1</th>\n",
       "      <td>CS4768</td>\n",
       "      <td>15-Mar-15</td>\n",
       "      <td>39</td>\n",
       "    </tr>\n",
       "    <tr>\n",
       "      <th>2</th>\n",
       "      <td>CS2122</td>\n",
       "      <td>26-Feb-13</td>\n",
       "      <td>52</td>\n",
       "    </tr>\n",
       "    <tr>\n",
       "      <th>3</th>\n",
       "      <td>CS1217</td>\n",
       "      <td>16-Nov-11</td>\n",
       "      <td>99</td>\n",
       "    </tr>\n",
       "    <tr>\n",
       "      <th>4</th>\n",
       "      <td>CS1850</td>\n",
       "      <td>20-Nov-13</td>\n",
       "      <td>78</td>\n",
       "    </tr>\n",
       "  </tbody>\n",
       "</table>\n",
       "</div>"
      ],
      "text/plain": [
       "  customer_id trans_date  tran_amount\n",
       "0      CS5295  11-Feb-13           35\n",
       "1      CS4768  15-Mar-15           39\n",
       "2      CS2122  26-Feb-13           52\n",
       "3      CS1217  16-Nov-11           99\n",
       "4      CS1850  20-Nov-13           78"
      ]
     },
     "execution_count": 2,
     "metadata": {},
     "output_type": "execute_result"
    }
   ],
   "source": [
    "data = pd.read_csv(\"Retail_Data_Transactions.csv\")\n",
    "print(\"Toal Rows: \", data.shape[0])\n",
    "print(\"Total Features: \", data.shape[1])\n",
    "data.head(5)"
   ]
  },
  {
   "cell_type": "markdown",
   "id": "particular-orbit",
   "metadata": {},
   "source": [
    "## Data Description"
   ]
  },
  {
   "cell_type": "code",
   "execution_count": 3,
   "id": "bulgarian-county",
   "metadata": {},
   "outputs": [
    {
     "name": "stdout",
     "output_type": "stream",
     "text": [
      "<class 'pandas.core.frame.DataFrame'>\n",
      "RangeIndex: 125000 entries, 0 to 124999\n",
      "Data columns (total 3 columns):\n",
      " #   Column       Non-Null Count   Dtype \n",
      "---  ------       --------------   ----- \n",
      " 0   customer_id  125000 non-null  object\n",
      " 1   trans_date   125000 non-null  object\n",
      " 2   tran_amount  125000 non-null  int64 \n",
      "dtypes: int64(1), object(2)\n",
      "memory usage: 2.9+ MB\n"
     ]
    }
   ],
   "source": [
    "data.info()"
   ]
  },
  {
   "cell_type": "markdown",
   "id": "separated-amazon",
   "metadata": {},
   "source": [
    "## Check Null / Missing Value and Duplicated Rows"
   ]
  },
  {
   "cell_type": "code",
   "execution_count": 4,
   "id": "sorted-lebanon",
   "metadata": {},
   "outputs": [
    {
     "data": {
      "text/plain": [
       "customer_id    0\n",
       "trans_date     0\n",
       "tran_amount    0\n",
       "dtype: int64"
      ]
     },
     "execution_count": 4,
     "metadata": {},
     "output_type": "execute_result"
    }
   ],
   "source": [
    "data.isnull().sum()"
   ]
  },
  {
   "cell_type": "code",
   "execution_count": 5,
   "id": "altered-membrane",
   "metadata": {},
   "outputs": [
    {
     "data": {
      "text/plain": [
       "6"
      ]
     },
     "execution_count": 5,
     "metadata": {},
     "output_type": "execute_result"
    }
   ],
   "source": [
    "data.duplicated().sum()"
   ]
  },
  {
   "cell_type": "markdown",
   "id": "friendly-intent",
   "metadata": {},
   "source": [
    "## Numerical Data"
   ]
  },
  {
   "cell_type": "markdown",
   "id": "industrial-farming",
   "metadata": {},
   "source": [
    "**Assign the numerical data into `data_num` object**"
   ]
  },
  {
   "cell_type": "code",
   "execution_count": 6,
   "id": "integrated-distinction",
   "metadata": {},
   "outputs": [
    {
     "data": {
      "text/plain": [
       "Index(['tran_amount'], dtype='object')"
      ]
     },
     "metadata": {},
     "output_type": "display_data"
    },
    {
     "name": "stdout",
     "output_type": "stream",
     "text": [
      "(125000, 1)\n"
     ]
    },
    {
     "data": {
      "text/html": [
       "<div>\n",
       "<style scoped>\n",
       "    .dataframe tbody tr th:only-of-type {\n",
       "        vertical-align: middle;\n",
       "    }\n",
       "\n",
       "    .dataframe tbody tr th {\n",
       "        vertical-align: top;\n",
       "    }\n",
       "\n",
       "    .dataframe thead th {\n",
       "        text-align: right;\n",
       "    }\n",
       "</style>\n",
       "<table border=\"1\" class=\"dataframe\">\n",
       "  <thead>\n",
       "    <tr style=\"text-align: right;\">\n",
       "      <th></th>\n",
       "      <th>tran_amount</th>\n",
       "    </tr>\n",
       "  </thead>\n",
       "  <tbody>\n",
       "    <tr>\n",
       "      <th>0</th>\n",
       "      <td>35</td>\n",
       "    </tr>\n",
       "    <tr>\n",
       "      <th>1</th>\n",
       "      <td>39</td>\n",
       "    </tr>\n",
       "    <tr>\n",
       "      <th>2</th>\n",
       "      <td>52</td>\n",
       "    </tr>\n",
       "    <tr>\n",
       "      <th>3</th>\n",
       "      <td>99</td>\n",
       "    </tr>\n",
       "    <tr>\n",
       "      <th>4</th>\n",
       "      <td>78</td>\n",
       "    </tr>\n",
       "  </tbody>\n",
       "</table>\n",
       "</div>"
      ],
      "text/plain": [
       "   tran_amount\n",
       "0           35\n",
       "1           39\n",
       "2           52\n",
       "3           99\n",
       "4           78"
      ]
     },
     "execution_count": 6,
     "metadata": {},
     "output_type": "execute_result"
    }
   ],
   "source": [
    "numerics = ['int8','int16', 'int32', 'int64', 'float16', 'float32', 'float64']\n",
    "display(data.select_dtypes(include = numerics).columns)\n",
    "print(data.select_dtypes(include=numerics).shape)\n",
    "data_num = data.select_dtypes(include=numerics)\n",
    "data_num.head()"
   ]
  },
  {
   "cell_type": "markdown",
   "id": "instructional-school",
   "metadata": {},
   "source": [
    "## Categorical Data"
   ]
  },
  {
   "cell_type": "markdown",
   "id": "weighted-posting",
   "metadata": {},
   "source": [
    "**Assign the categorical data into `data_cat` object**"
   ]
  },
  {
   "cell_type": "code",
   "execution_count": 7,
   "id": "approved-ottawa",
   "metadata": {},
   "outputs": [
    {
     "data": {
      "text/plain": [
       "Index(['customer_id', 'trans_date'], dtype='object')"
      ]
     },
     "metadata": {},
     "output_type": "display_data"
    },
    {
     "name": "stdout",
     "output_type": "stream",
     "text": [
      "(125000, 2)\n"
     ]
    },
    {
     "data": {
      "text/html": [
       "<div>\n",
       "<style scoped>\n",
       "    .dataframe tbody tr th:only-of-type {\n",
       "        vertical-align: middle;\n",
       "    }\n",
       "\n",
       "    .dataframe tbody tr th {\n",
       "        vertical-align: top;\n",
       "    }\n",
       "\n",
       "    .dataframe thead th {\n",
       "        text-align: right;\n",
       "    }\n",
       "</style>\n",
       "<table border=\"1\" class=\"dataframe\">\n",
       "  <thead>\n",
       "    <tr style=\"text-align: right;\">\n",
       "      <th></th>\n",
       "      <th>customer_id</th>\n",
       "      <th>trans_date</th>\n",
       "    </tr>\n",
       "  </thead>\n",
       "  <tbody>\n",
       "    <tr>\n",
       "      <th>0</th>\n",
       "      <td>CS5295</td>\n",
       "      <td>11-Feb-13</td>\n",
       "    </tr>\n",
       "    <tr>\n",
       "      <th>1</th>\n",
       "      <td>CS4768</td>\n",
       "      <td>15-Mar-15</td>\n",
       "    </tr>\n",
       "    <tr>\n",
       "      <th>2</th>\n",
       "      <td>CS2122</td>\n",
       "      <td>26-Feb-13</td>\n",
       "    </tr>\n",
       "    <tr>\n",
       "      <th>3</th>\n",
       "      <td>CS1217</td>\n",
       "      <td>16-Nov-11</td>\n",
       "    </tr>\n",
       "    <tr>\n",
       "      <th>4</th>\n",
       "      <td>CS1850</td>\n",
       "      <td>20-Nov-13</td>\n",
       "    </tr>\n",
       "  </tbody>\n",
       "</table>\n",
       "</div>"
      ],
      "text/plain": [
       "  customer_id trans_date\n",
       "0      CS5295  11-Feb-13\n",
       "1      CS4768  15-Mar-15\n",
       "2      CS2122  26-Feb-13\n",
       "3      CS1217  16-Nov-11\n",
       "4      CS1850  20-Nov-13"
      ]
     },
     "execution_count": 7,
     "metadata": {},
     "output_type": "execute_result"
    }
   ],
   "source": [
    "display(data.select_dtypes(include=[\"object\"]).columns)\n",
    "print(data.select_dtypes(include=object).shape)\n",
    "data_cat = data.select_dtypes(include=[\"object\"])\n",
    "data_cat.head()"
   ]
  },
  {
   "cell_type": "markdown",
   "id": "solved-roads",
   "metadata": {},
   "source": [
    "* From the data, we have 125000 rows with 3 features, 2 as the categorical and 1 as the numerical feature.\n",
    "* The data is clean enough, there are no null or missing value. But we have 6 duplicated rows.\n",
    "* While the `trans_date` contains date information with the string type, we have to convert this to the right format date for the next preparation."
   ]
  },
  {
   "cell_type": "markdown",
   "id": "static-barrier",
   "metadata": {},
   "source": [
    "# Data Preparation"
   ]
  },
  {
   "cell_type": "markdown",
   "id": "quantitative-fitting",
   "metadata": {},
   "source": [
    "## Handle Duplicated Rows"
   ]
  },
  {
   "cell_type": "code",
   "execution_count": 8,
   "id": "composite-hampton",
   "metadata": {},
   "outputs": [
    {
     "data": {
      "text/plain": [
       "6"
      ]
     },
     "execution_count": 8,
     "metadata": {},
     "output_type": "execute_result"
    }
   ],
   "source": [
    "data.duplicated().sum()"
   ]
  },
  {
   "cell_type": "code",
   "execution_count": 9,
   "id": "white-circular",
   "metadata": {},
   "outputs": [],
   "source": [
    "data = data.drop_duplicates()"
   ]
  },
  {
   "cell_type": "code",
   "execution_count": 10,
   "id": "skilled-shape",
   "metadata": {},
   "outputs": [
    {
     "data": {
      "text/plain": [
       "0"
      ]
     },
     "execution_count": 10,
     "metadata": {},
     "output_type": "execute_result"
    }
   ],
   "source": [
    "data.duplicated().sum()"
   ]
  },
  {
   "cell_type": "markdown",
   "id": "according-rocket",
   "metadata": {},
   "source": [
    "## Converts The `trans_date` into Date Time Format\n",
    "\n",
    "**As the `trans_date` not in the right data type as the datetime, we have to convert it for the next purpose, especially for the RFM's featuring process**"
   ]
  },
  {
   "cell_type": "code",
   "execution_count": 11,
   "id": "disciplinary-nickname",
   "metadata": {},
   "outputs": [
    {
     "name": "stdout",
     "output_type": "stream",
     "text": [
      "<class 'pandas.core.series.Series'>\n"
     ]
    }
   ],
   "source": [
    "print(type(data[\"trans_date\"]))"
   ]
  },
  {
   "cell_type": "code",
   "execution_count": 12,
   "id": "stylish-quality",
   "metadata": {},
   "outputs": [],
   "source": [
    "data[\"trans_date\"] = pd.to_datetime(data[\"trans_date\"])"
   ]
  },
  {
   "cell_type": "code",
   "execution_count": 13,
   "id": "bacterial-decimal",
   "metadata": {},
   "outputs": [
    {
     "name": "stdout",
     "output_type": "stream",
     "text": [
      "<class 'pandas.core.frame.DataFrame'>\n",
      "Int64Index: 124994 entries, 0 to 124999\n",
      "Data columns (total 3 columns):\n",
      " #   Column       Non-Null Count   Dtype         \n",
      "---  ------       --------------   -----         \n",
      " 0   customer_id  124994 non-null  object        \n",
      " 1   trans_date   124994 non-null  datetime64[ns]\n",
      " 2   tran_amount  124994 non-null  int64         \n",
      "dtypes: datetime64[ns](1), int64(1), object(1)\n",
      "memory usage: 3.8+ MB\n"
     ]
    }
   ],
   "source": [
    "data.info()"
   ]
  },
  {
   "cell_type": "code",
   "execution_count": 14,
   "id": "harmful-telephone",
   "metadata": {},
   "outputs": [
    {
     "data": {
      "text/html": [
       "<div>\n",
       "<style scoped>\n",
       "    .dataframe tbody tr th:only-of-type {\n",
       "        vertical-align: middle;\n",
       "    }\n",
       "\n",
       "    .dataframe tbody tr th {\n",
       "        vertical-align: top;\n",
       "    }\n",
       "\n",
       "    .dataframe thead th {\n",
       "        text-align: right;\n",
       "    }\n",
       "</style>\n",
       "<table border=\"1\" class=\"dataframe\">\n",
       "  <thead>\n",
       "    <tr style=\"text-align: right;\">\n",
       "      <th></th>\n",
       "      <th>tran_amount</th>\n",
       "    </tr>\n",
       "  </thead>\n",
       "  <tbody>\n",
       "    <tr>\n",
       "      <th>count</th>\n",
       "      <td>124994.000000</td>\n",
       "    </tr>\n",
       "    <tr>\n",
       "      <th>mean</th>\n",
       "      <td>64.992504</td>\n",
       "    </tr>\n",
       "    <tr>\n",
       "      <th>std</th>\n",
       "      <td>22.859952</td>\n",
       "    </tr>\n",
       "    <tr>\n",
       "      <th>min</th>\n",
       "      <td>10.000000</td>\n",
       "    </tr>\n",
       "    <tr>\n",
       "      <th>25%</th>\n",
       "      <td>47.000000</td>\n",
       "    </tr>\n",
       "    <tr>\n",
       "      <th>50%</th>\n",
       "      <td>65.000000</td>\n",
       "    </tr>\n",
       "    <tr>\n",
       "      <th>75%</th>\n",
       "      <td>83.000000</td>\n",
       "    </tr>\n",
       "    <tr>\n",
       "      <th>max</th>\n",
       "      <td>105.000000</td>\n",
       "    </tr>\n",
       "  </tbody>\n",
       "</table>\n",
       "</div>"
      ],
      "text/plain": [
       "         tran_amount\n",
       "count  124994.000000\n",
       "mean       64.992504\n",
       "std        22.859952\n",
       "min        10.000000\n",
       "25%        47.000000\n",
       "50%        65.000000\n",
       "75%        83.000000\n",
       "max       105.000000"
      ]
     },
     "execution_count": 14,
     "metadata": {},
     "output_type": "execute_result"
    }
   ],
   "source": [
    "data.describe()"
   ]
  },
  {
   "cell_type": "markdown",
   "id": "demonstrated-kuwait",
   "metadata": {},
   "source": [
    "## Create RFM Features"
   ]
  },
  {
   "cell_type": "markdown",
   "id": "generous-shore",
   "metadata": {},
   "source": [
    "### Recency"
   ]
  },
  {
   "cell_type": "code",
   "execution_count": 15,
   "id": "early-october",
   "metadata": {},
   "outputs": [
    {
     "data": {
      "text/html": [
       "<div>\n",
       "<style scoped>\n",
       "    .dataframe tbody tr th:only-of-type {\n",
       "        vertical-align: middle;\n",
       "    }\n",
       "\n",
       "    .dataframe tbody tr th {\n",
       "        vertical-align: top;\n",
       "    }\n",
       "\n",
       "    .dataframe thead th {\n",
       "        text-align: right;\n",
       "    }\n",
       "</style>\n",
       "<table border=\"1\" class=\"dataframe\">\n",
       "  <thead>\n",
       "    <tr style=\"text-align: right;\">\n",
       "      <th></th>\n",
       "      <th>customer_id</th>\n",
       "    </tr>\n",
       "  </thead>\n",
       "  <tbody>\n",
       "    <tr>\n",
       "      <th>0</th>\n",
       "      <td>CS5295</td>\n",
       "    </tr>\n",
       "    <tr>\n",
       "      <th>1</th>\n",
       "      <td>CS4768</td>\n",
       "    </tr>\n",
       "    <tr>\n",
       "      <th>2</th>\n",
       "      <td>CS2122</td>\n",
       "    </tr>\n",
       "    <tr>\n",
       "      <th>3</th>\n",
       "      <td>CS1217</td>\n",
       "    </tr>\n",
       "    <tr>\n",
       "      <th>4</th>\n",
       "      <td>CS1850</td>\n",
       "    </tr>\n",
       "    <tr>\n",
       "      <th>...</th>\n",
       "      <td>...</td>\n",
       "    </tr>\n",
       "    <tr>\n",
       "      <th>6884</th>\n",
       "      <td>CS8478</td>\n",
       "    </tr>\n",
       "    <tr>\n",
       "      <th>6885</th>\n",
       "      <td>CS8326</td>\n",
       "    </tr>\n",
       "    <tr>\n",
       "      <th>6886</th>\n",
       "      <td>CS8409</td>\n",
       "    </tr>\n",
       "    <tr>\n",
       "      <th>6887</th>\n",
       "      <td>CS8479</td>\n",
       "    </tr>\n",
       "    <tr>\n",
       "      <th>6888</th>\n",
       "      <td>CS8077</td>\n",
       "    </tr>\n",
       "  </tbody>\n",
       "</table>\n",
       "<p>6889 rows × 1 columns</p>\n",
       "</div>"
      ],
      "text/plain": [
       "     customer_id\n",
       "0         CS5295\n",
       "1         CS4768\n",
       "2         CS2122\n",
       "3         CS1217\n",
       "4         CS1850\n",
       "...          ...\n",
       "6884      CS8478\n",
       "6885      CS8326\n",
       "6886      CS8409\n",
       "6887      CS8479\n",
       "6888      CS8077\n",
       "\n",
       "[6889 rows x 1 columns]"
      ]
     },
     "execution_count": 15,
     "metadata": {},
     "output_type": "execute_result"
    }
   ],
   "source": [
    "# Create new dataframe drfm based on unique customer_id\n",
    "drfm = pd.DataFrame(data[\"customer_id\"].unique())\n",
    "drfm.columns = [\"customer_id\"]\n",
    "drfm"
   ]
  },
  {
   "cell_type": "code",
   "execution_count": 16,
   "id": "english-twins",
   "metadata": {},
   "outputs": [],
   "source": [
    "# Groupby customer_id and aggregate the trans_date to see the trans_date for each customer_id\n",
    "recency = data.groupby([\"customer_id\"]).agg({\n",
    "    \"trans_date\": ['max']\n",
    "}).reset_index()\n",
    "recency.columns = [\"customer_id\", \"trans_date\"]"
   ]
  },
  {
   "cell_type": "code",
   "execution_count": 17,
   "id": "blind-prototype",
   "metadata": {},
   "outputs": [
    {
     "data": {
      "text/plain": [
       "Timestamp('2015-03-16 00:00:00')"
      ]
     },
     "execution_count": 17,
     "metadata": {},
     "output_type": "execute_result"
    }
   ],
   "source": [
    "# last_trans to see the date of last transaction using max() function\n",
    "last_trans = max(recency[\"trans_date\"])\n",
    "last_trans"
   ]
  },
  {
   "cell_type": "code",
   "execution_count": 18,
   "id": "physical-freight",
   "metadata": {},
   "outputs": [
    {
     "data": {
      "text/html": [
       "<div>\n",
       "<style scoped>\n",
       "    .dataframe tbody tr th:only-of-type {\n",
       "        vertical-align: middle;\n",
       "    }\n",
       "\n",
       "    .dataframe tbody tr th {\n",
       "        vertical-align: top;\n",
       "    }\n",
       "\n",
       "    .dataframe thead th {\n",
       "        text-align: right;\n",
       "    }\n",
       "</style>\n",
       "<table border=\"1\" class=\"dataframe\">\n",
       "  <thead>\n",
       "    <tr style=\"text-align: right;\">\n",
       "      <th></th>\n",
       "      <th>customer_id</th>\n",
       "      <th>trans_date</th>\n",
       "      <th>recency</th>\n",
       "    </tr>\n",
       "  </thead>\n",
       "  <tbody>\n",
       "    <tr>\n",
       "      <th>0</th>\n",
       "      <td>CS1112</td>\n",
       "      <td>2015-01-14</td>\n",
       "      <td>61</td>\n",
       "    </tr>\n",
       "    <tr>\n",
       "      <th>1</th>\n",
       "      <td>CS1113</td>\n",
       "      <td>2015-02-09</td>\n",
       "      <td>35</td>\n",
       "    </tr>\n",
       "    <tr>\n",
       "      <th>2</th>\n",
       "      <td>CS1114</td>\n",
       "      <td>2015-02-12</td>\n",
       "      <td>32</td>\n",
       "    </tr>\n",
       "    <tr>\n",
       "      <th>3</th>\n",
       "      <td>CS1115</td>\n",
       "      <td>2015-03-05</td>\n",
       "      <td>11</td>\n",
       "    </tr>\n",
       "    <tr>\n",
       "      <th>4</th>\n",
       "      <td>CS1116</td>\n",
       "      <td>2014-08-25</td>\n",
       "      <td>203</td>\n",
       "    </tr>\n",
       "    <tr>\n",
       "      <th>...</th>\n",
       "      <td>...</td>\n",
       "      <td>...</td>\n",
       "      <td>...</td>\n",
       "    </tr>\n",
       "    <tr>\n",
       "      <th>6884</th>\n",
       "      <td>CS8996</td>\n",
       "      <td>2014-12-09</td>\n",
       "      <td>97</td>\n",
       "    </tr>\n",
       "    <tr>\n",
       "      <th>6885</th>\n",
       "      <td>CS8997</td>\n",
       "      <td>2014-06-28</td>\n",
       "      <td>261</td>\n",
       "    </tr>\n",
       "    <tr>\n",
       "      <th>6886</th>\n",
       "      <td>CS8998</td>\n",
       "      <td>2014-12-22</td>\n",
       "      <td>84</td>\n",
       "    </tr>\n",
       "    <tr>\n",
       "      <th>6887</th>\n",
       "      <td>CS8999</td>\n",
       "      <td>2014-07-02</td>\n",
       "      <td>257</td>\n",
       "    </tr>\n",
       "    <tr>\n",
       "      <th>6888</th>\n",
       "      <td>CS9000</td>\n",
       "      <td>2015-02-28</td>\n",
       "      <td>16</td>\n",
       "    </tr>\n",
       "  </tbody>\n",
       "</table>\n",
       "<p>6889 rows × 3 columns</p>\n",
       "</div>"
      ],
      "text/plain": [
       "     customer_id trans_date  recency\n",
       "0         CS1112 2015-01-14       61\n",
       "1         CS1113 2015-02-09       35\n",
       "2         CS1114 2015-02-12       32\n",
       "3         CS1115 2015-03-05       11\n",
       "4         CS1116 2014-08-25      203\n",
       "...          ...        ...      ...\n",
       "6884      CS8996 2014-12-09       97\n",
       "6885      CS8997 2014-06-28      261\n",
       "6886      CS8998 2014-12-22       84\n",
       "6887      CS8999 2014-07-02      257\n",
       "6888      CS9000 2015-02-28       16\n",
       "\n",
       "[6889 rows x 3 columns]"
      ]
     },
     "execution_count": 18,
     "metadata": {},
     "output_type": "execute_result"
    }
   ],
   "source": [
    "# add new columns contains information of the recency days by subtracting last transactions for each customer_id from the trans_date\n",
    "recency['recency'] = (last_trans - recency['trans_date']).dt.days\n",
    "recency"
   ]
  },
  {
   "cell_type": "code",
   "execution_count": 19,
   "id": "complimentary-fighter",
   "metadata": {},
   "outputs": [
    {
     "data": {
      "text/html": [
       "<div>\n",
       "<style scoped>\n",
       "    .dataframe tbody tr th:only-of-type {\n",
       "        vertical-align: middle;\n",
       "    }\n",
       "\n",
       "    .dataframe tbody tr th {\n",
       "        vertical-align: top;\n",
       "    }\n",
       "\n",
       "    .dataframe thead th {\n",
       "        text-align: right;\n",
       "    }\n",
       "</style>\n",
       "<table border=\"1\" class=\"dataframe\">\n",
       "  <thead>\n",
       "    <tr style=\"text-align: right;\">\n",
       "      <th></th>\n",
       "      <th>customer_id</th>\n",
       "      <th>recency</th>\n",
       "    </tr>\n",
       "  </thead>\n",
       "  <tbody>\n",
       "    <tr>\n",
       "      <th>0</th>\n",
       "      <td>CS5295</td>\n",
       "      <td>111</td>\n",
       "    </tr>\n",
       "    <tr>\n",
       "      <th>1</th>\n",
       "      <td>CS4768</td>\n",
       "      <td>1</td>\n",
       "    </tr>\n",
       "    <tr>\n",
       "      <th>2</th>\n",
       "      <td>CS2122</td>\n",
       "      <td>21</td>\n",
       "    </tr>\n",
       "    <tr>\n",
       "      <th>3</th>\n",
       "      <td>CS1217</td>\n",
       "      <td>77</td>\n",
       "    </tr>\n",
       "    <tr>\n",
       "      <th>4</th>\n",
       "      <td>CS1850</td>\n",
       "      <td>7</td>\n",
       "    </tr>\n",
       "  </tbody>\n",
       "</table>\n",
       "</div>"
      ],
      "text/plain": [
       "  customer_id  recency\n",
       "0      CS5295      111\n",
       "1      CS4768        1\n",
       "2      CS2122       21\n",
       "3      CS1217       77\n",
       "4      CS1850        7"
      ]
     },
     "execution_count": 19,
     "metadata": {},
     "output_type": "execute_result"
    }
   ],
   "source": [
    "# Merge the recency to drfm dataframe\n",
    "drfm = pd.merge(drfm, recency[[\"customer_id\", \"recency\"]], on=\"customer_id\")\n",
    "drfm.head()"
   ]
  },
  {
   "cell_type": "markdown",
   "id": "electric-diary",
   "metadata": {},
   "source": [
    "### Frequency"
   ]
  },
  {
   "cell_type": "code",
   "execution_count": 20,
   "id": "understanding-vulnerability",
   "metadata": {},
   "outputs": [
    {
     "data": {
      "text/html": [
       "<div>\n",
       "<style scoped>\n",
       "    .dataframe tbody tr th:only-of-type {\n",
       "        vertical-align: middle;\n",
       "    }\n",
       "\n",
       "    .dataframe tbody tr th {\n",
       "        vertical-align: top;\n",
       "    }\n",
       "\n",
       "    .dataframe thead th {\n",
       "        text-align: right;\n",
       "    }\n",
       "</style>\n",
       "<table border=\"1\" class=\"dataframe\">\n",
       "  <thead>\n",
       "    <tr style=\"text-align: right;\">\n",
       "      <th></th>\n",
       "      <th>customer_id</th>\n",
       "      <th>frequency</th>\n",
       "    </tr>\n",
       "  </thead>\n",
       "  <tbody>\n",
       "    <tr>\n",
       "      <th>0</th>\n",
       "      <td>CS1112</td>\n",
       "      <td>15</td>\n",
       "    </tr>\n",
       "    <tr>\n",
       "      <th>1</th>\n",
       "      <td>CS1113</td>\n",
       "      <td>20</td>\n",
       "    </tr>\n",
       "    <tr>\n",
       "      <th>2</th>\n",
       "      <td>CS1114</td>\n",
       "      <td>19</td>\n",
       "    </tr>\n",
       "    <tr>\n",
       "      <th>3</th>\n",
       "      <td>CS1115</td>\n",
       "      <td>22</td>\n",
       "    </tr>\n",
       "    <tr>\n",
       "      <th>4</th>\n",
       "      <td>CS1116</td>\n",
       "      <td>13</td>\n",
       "    </tr>\n",
       "    <tr>\n",
       "      <th>...</th>\n",
       "      <td>...</td>\n",
       "      <td>...</td>\n",
       "    </tr>\n",
       "    <tr>\n",
       "      <th>6884</th>\n",
       "      <td>CS8996</td>\n",
       "      <td>13</td>\n",
       "    </tr>\n",
       "    <tr>\n",
       "      <th>6885</th>\n",
       "      <td>CS8997</td>\n",
       "      <td>14</td>\n",
       "    </tr>\n",
       "    <tr>\n",
       "      <th>6886</th>\n",
       "      <td>CS8998</td>\n",
       "      <td>13</td>\n",
       "    </tr>\n",
       "    <tr>\n",
       "      <th>6887</th>\n",
       "      <td>CS8999</td>\n",
       "      <td>12</td>\n",
       "    </tr>\n",
       "    <tr>\n",
       "      <th>6888</th>\n",
       "      <td>CS9000</td>\n",
       "      <td>13</td>\n",
       "    </tr>\n",
       "  </tbody>\n",
       "</table>\n",
       "<p>6889 rows × 2 columns</p>\n",
       "</div>"
      ],
      "text/plain": [
       "     customer_id  frequency\n",
       "0         CS1112         15\n",
       "1         CS1113         20\n",
       "2         CS1114         19\n",
       "3         CS1115         22\n",
       "4         CS1116         13\n",
       "...          ...        ...\n",
       "6884      CS8996         13\n",
       "6885      CS8997         14\n",
       "6886      CS8998         13\n",
       "6887      CS8999         12\n",
       "6888      CS9000         13\n",
       "\n",
       "[6889 rows x 2 columns]"
      ]
     },
     "execution_count": 20,
     "metadata": {},
     "output_type": "execute_result"
    }
   ],
   "source": [
    "frequency = data.groupby(['customer_id']).agg({\n",
    "    \"trans_date\": ['count']\n",
    "}).reset_index()\n",
    "frequency.columns = ['customer_id','frequency']\n",
    "frequency"
   ]
  },
  {
   "cell_type": "code",
   "execution_count": 21,
   "id": "filled-annotation",
   "metadata": {},
   "outputs": [
    {
     "data": {
      "text/html": [
       "<div>\n",
       "<style scoped>\n",
       "    .dataframe tbody tr th:only-of-type {\n",
       "        vertical-align: middle;\n",
       "    }\n",
       "\n",
       "    .dataframe tbody tr th {\n",
       "        vertical-align: top;\n",
       "    }\n",
       "\n",
       "    .dataframe thead th {\n",
       "        text-align: right;\n",
       "    }\n",
       "</style>\n",
       "<table border=\"1\" class=\"dataframe\">\n",
       "  <thead>\n",
       "    <tr style=\"text-align: right;\">\n",
       "      <th></th>\n",
       "      <th>customer_id</th>\n",
       "      <th>recency</th>\n",
       "      <th>frequency</th>\n",
       "    </tr>\n",
       "  </thead>\n",
       "  <tbody>\n",
       "    <tr>\n",
       "      <th>0</th>\n",
       "      <td>CS5295</td>\n",
       "      <td>111</td>\n",
       "      <td>25</td>\n",
       "    </tr>\n",
       "    <tr>\n",
       "      <th>1</th>\n",
       "      <td>CS4768</td>\n",
       "      <td>1</td>\n",
       "      <td>26</td>\n",
       "    </tr>\n",
       "    <tr>\n",
       "      <th>2</th>\n",
       "      <td>CS2122</td>\n",
       "      <td>21</td>\n",
       "      <td>23</td>\n",
       "    </tr>\n",
       "    <tr>\n",
       "      <th>3</th>\n",
       "      <td>CS1217</td>\n",
       "      <td>77</td>\n",
       "      <td>20</td>\n",
       "    </tr>\n",
       "    <tr>\n",
       "      <th>4</th>\n",
       "      <td>CS1850</td>\n",
       "      <td>7</td>\n",
       "      <td>24</td>\n",
       "    </tr>\n",
       "    <tr>\n",
       "      <th>...</th>\n",
       "      <td>...</td>\n",
       "      <td>...</td>\n",
       "      <td>...</td>\n",
       "    </tr>\n",
       "    <tr>\n",
       "      <th>6884</th>\n",
       "      <td>CS8478</td>\n",
       "      <td>142</td>\n",
       "      <td>7</td>\n",
       "    </tr>\n",
       "    <tr>\n",
       "      <th>6885</th>\n",
       "      <td>CS8326</td>\n",
       "      <td>23</td>\n",
       "      <td>5</td>\n",
       "    </tr>\n",
       "    <tr>\n",
       "      <th>6886</th>\n",
       "      <td>CS8409</td>\n",
       "      <td>210</td>\n",
       "      <td>8</td>\n",
       "    </tr>\n",
       "    <tr>\n",
       "      <th>6887</th>\n",
       "      <td>CS8479</td>\n",
       "      <td>38</td>\n",
       "      <td>5</td>\n",
       "    </tr>\n",
       "    <tr>\n",
       "      <th>6888</th>\n",
       "      <td>CS8077</td>\n",
       "      <td>15</td>\n",
       "      <td>5</td>\n",
       "    </tr>\n",
       "  </tbody>\n",
       "</table>\n",
       "<p>6889 rows × 3 columns</p>\n",
       "</div>"
      ],
      "text/plain": [
       "     customer_id  recency  frequency\n",
       "0         CS5295      111         25\n",
       "1         CS4768        1         26\n",
       "2         CS2122       21         23\n",
       "3         CS1217       77         20\n",
       "4         CS1850        7         24\n",
       "...          ...      ...        ...\n",
       "6884      CS8478      142          7\n",
       "6885      CS8326       23          5\n",
       "6886      CS8409      210          8\n",
       "6887      CS8479       38          5\n",
       "6888      CS8077       15          5\n",
       "\n",
       "[6889 rows x 3 columns]"
      ]
     },
     "execution_count": 21,
     "metadata": {},
     "output_type": "execute_result"
    }
   ],
   "source": [
    "drfm = pd.merge(drfm, frequency[[\"customer_id\", \"frequency\"]], on=\"customer_id\")\n",
    "drfm"
   ]
  },
  {
   "cell_type": "markdown",
   "id": "solved-upset",
   "metadata": {},
   "source": [
    "### Monetary"
   ]
  },
  {
   "cell_type": "code",
   "execution_count": 22,
   "id": "mineral-sudan",
   "metadata": {},
   "outputs": [
    {
     "data": {
      "text/html": [
       "<div>\n",
       "<style scoped>\n",
       "    .dataframe tbody tr th:only-of-type {\n",
       "        vertical-align: middle;\n",
       "    }\n",
       "\n",
       "    .dataframe tbody tr th {\n",
       "        vertical-align: top;\n",
       "    }\n",
       "\n",
       "    .dataframe thead th {\n",
       "        text-align: right;\n",
       "    }\n",
       "</style>\n",
       "<table border=\"1\" class=\"dataframe\">\n",
       "  <thead>\n",
       "    <tr style=\"text-align: right;\">\n",
       "      <th></th>\n",
       "      <th>customer_id</th>\n",
       "      <th>monetary</th>\n",
       "    </tr>\n",
       "  </thead>\n",
       "  <tbody>\n",
       "    <tr>\n",
       "      <th>0</th>\n",
       "      <td>CS1112</td>\n",
       "      <td>1012</td>\n",
       "    </tr>\n",
       "    <tr>\n",
       "      <th>1</th>\n",
       "      <td>CS1113</td>\n",
       "      <td>1490</td>\n",
       "    </tr>\n",
       "    <tr>\n",
       "      <th>2</th>\n",
       "      <td>CS1114</td>\n",
       "      <td>1432</td>\n",
       "    </tr>\n",
       "    <tr>\n",
       "      <th>3</th>\n",
       "      <td>CS1115</td>\n",
       "      <td>1659</td>\n",
       "    </tr>\n",
       "    <tr>\n",
       "      <th>4</th>\n",
       "      <td>CS1116</td>\n",
       "      <td>857</td>\n",
       "    </tr>\n",
       "    <tr>\n",
       "      <th>...</th>\n",
       "      <td>...</td>\n",
       "      <td>...</td>\n",
       "    </tr>\n",
       "    <tr>\n",
       "      <th>6884</th>\n",
       "      <td>CS8996</td>\n",
       "      <td>582</td>\n",
       "    </tr>\n",
       "    <tr>\n",
       "      <th>6885</th>\n",
       "      <td>CS8997</td>\n",
       "      <td>543</td>\n",
       "    </tr>\n",
       "    <tr>\n",
       "      <th>6886</th>\n",
       "      <td>CS8998</td>\n",
       "      <td>624</td>\n",
       "    </tr>\n",
       "    <tr>\n",
       "      <th>6887</th>\n",
       "      <td>CS8999</td>\n",
       "      <td>383</td>\n",
       "    </tr>\n",
       "    <tr>\n",
       "      <th>6888</th>\n",
       "      <td>CS9000</td>\n",
       "      <td>533</td>\n",
       "    </tr>\n",
       "  </tbody>\n",
       "</table>\n",
       "<p>6889 rows × 2 columns</p>\n",
       "</div>"
      ],
      "text/plain": [
       "     customer_id  monetary\n",
       "0         CS1112      1012\n",
       "1         CS1113      1490\n",
       "2         CS1114      1432\n",
       "3         CS1115      1659\n",
       "4         CS1116       857\n",
       "...          ...       ...\n",
       "6884      CS8996       582\n",
       "6885      CS8997       543\n",
       "6886      CS8998       624\n",
       "6887      CS8999       383\n",
       "6888      CS9000       533\n",
       "\n",
       "[6889 rows x 2 columns]"
      ]
     },
     "execution_count": 22,
     "metadata": {},
     "output_type": "execute_result"
    }
   ],
   "source": [
    "monetary = data.groupby([\"customer_id\"]).agg({\n",
    "    \"tran_amount\": ['sum']\n",
    "}).reset_index()\n",
    "monetary.columns = [\"customer_id\",\"monetary\"]\n",
    "monetary"
   ]
  },
  {
   "cell_type": "code",
   "execution_count": 23,
   "id": "structured-accounting",
   "metadata": {},
   "outputs": [
    {
     "data": {
      "text/html": [
       "<div>\n",
       "<style scoped>\n",
       "    .dataframe tbody tr th:only-of-type {\n",
       "        vertical-align: middle;\n",
       "    }\n",
       "\n",
       "    .dataframe tbody tr th {\n",
       "        vertical-align: top;\n",
       "    }\n",
       "\n",
       "    .dataframe thead th {\n",
       "        text-align: right;\n",
       "    }\n",
       "</style>\n",
       "<table border=\"1\" class=\"dataframe\">\n",
       "  <thead>\n",
       "    <tr style=\"text-align: right;\">\n",
       "      <th></th>\n",
       "      <th>customer_id</th>\n",
       "      <th>recency</th>\n",
       "      <th>frequency</th>\n",
       "      <th>monetary</th>\n",
       "    </tr>\n",
       "  </thead>\n",
       "  <tbody>\n",
       "    <tr>\n",
       "      <th>0</th>\n",
       "      <td>CS5295</td>\n",
       "      <td>111</td>\n",
       "      <td>25</td>\n",
       "      <td>1637</td>\n",
       "    </tr>\n",
       "    <tr>\n",
       "      <th>1</th>\n",
       "      <td>CS4768</td>\n",
       "      <td>1</td>\n",
       "      <td>26</td>\n",
       "      <td>1721</td>\n",
       "    </tr>\n",
       "    <tr>\n",
       "      <th>2</th>\n",
       "      <td>CS2122</td>\n",
       "      <td>21</td>\n",
       "      <td>23</td>\n",
       "      <td>1648</td>\n",
       "    </tr>\n",
       "    <tr>\n",
       "      <th>3</th>\n",
       "      <td>CS1217</td>\n",
       "      <td>77</td>\n",
       "      <td>20</td>\n",
       "      <td>1431</td>\n",
       "    </tr>\n",
       "    <tr>\n",
       "      <th>4</th>\n",
       "      <td>CS1850</td>\n",
       "      <td>7</td>\n",
       "      <td>24</td>\n",
       "      <td>1908</td>\n",
       "    </tr>\n",
       "    <tr>\n",
       "      <th>...</th>\n",
       "      <td>...</td>\n",
       "      <td>...</td>\n",
       "      <td>...</td>\n",
       "      <td>...</td>\n",
       "    </tr>\n",
       "    <tr>\n",
       "      <th>6884</th>\n",
       "      <td>CS8478</td>\n",
       "      <td>142</td>\n",
       "      <td>7</td>\n",
       "      <td>287</td>\n",
       "    </tr>\n",
       "    <tr>\n",
       "      <th>6885</th>\n",
       "      <td>CS8326</td>\n",
       "      <td>23</td>\n",
       "      <td>5</td>\n",
       "      <td>209</td>\n",
       "    </tr>\n",
       "    <tr>\n",
       "      <th>6886</th>\n",
       "      <td>CS8409</td>\n",
       "      <td>210</td>\n",
       "      <td>8</td>\n",
       "      <td>399</td>\n",
       "    </tr>\n",
       "    <tr>\n",
       "      <th>6887</th>\n",
       "      <td>CS8479</td>\n",
       "      <td>38</td>\n",
       "      <td>5</td>\n",
       "      <td>223</td>\n",
       "    </tr>\n",
       "    <tr>\n",
       "      <th>6888</th>\n",
       "      <td>CS8077</td>\n",
       "      <td>15</td>\n",
       "      <td>5</td>\n",
       "      <td>164</td>\n",
       "    </tr>\n",
       "  </tbody>\n",
       "</table>\n",
       "<p>6889 rows × 4 columns</p>\n",
       "</div>"
      ],
      "text/plain": [
       "     customer_id  recency  frequency  monetary\n",
       "0         CS5295      111         25      1637\n",
       "1         CS4768        1         26      1721\n",
       "2         CS2122       21         23      1648\n",
       "3         CS1217       77         20      1431\n",
       "4         CS1850        7         24      1908\n",
       "...          ...      ...        ...       ...\n",
       "6884      CS8478      142          7       287\n",
       "6885      CS8326       23          5       209\n",
       "6886      CS8409      210          8       399\n",
       "6887      CS8479       38          5       223\n",
       "6888      CS8077       15          5       164\n",
       "\n",
       "[6889 rows x 4 columns]"
      ]
     },
     "execution_count": 23,
     "metadata": {},
     "output_type": "execute_result"
    }
   ],
   "source": [
    "drfm = pd.merge(drfm, monetary, on=\"customer_id\")\n",
    "drfm"
   ]
  },
  {
   "cell_type": "markdown",
   "id": "satisfactory-wisconsin",
   "metadata": {},
   "source": [
    "## Standardization\n",
    "\n",
    "**For the modeling, the cumerical data have to be standardized firstly to make the algorithm in optimal condition for learning**"
   ]
  },
  {
   "cell_type": "code",
   "execution_count": 24,
   "id": "amazing-siemens",
   "metadata": {},
   "outputs": [
    {
     "data": {
      "text/html": [
       "<div>\n",
       "<style scoped>\n",
       "    .dataframe tbody tr th:only-of-type {\n",
       "        vertical-align: middle;\n",
       "    }\n",
       "\n",
       "    .dataframe tbody tr th {\n",
       "        vertical-align: top;\n",
       "    }\n",
       "\n",
       "    .dataframe thead th {\n",
       "        text-align: right;\n",
       "    }\n",
       "</style>\n",
       "<table border=\"1\" class=\"dataframe\">\n",
       "  <thead>\n",
       "    <tr style=\"text-align: right;\">\n",
       "      <th></th>\n",
       "      <th>recency</th>\n",
       "      <th>frequency</th>\n",
       "      <th>monetary</th>\n",
       "    </tr>\n",
       "  </thead>\n",
       "  <tbody>\n",
       "    <tr>\n",
       "      <th>count</th>\n",
       "      <td>6.889000e+03</td>\n",
       "      <td>6.889000e+03</td>\n",
       "      <td>6.889000e+03</td>\n",
       "    </tr>\n",
       "    <tr>\n",
       "      <th>mean</th>\n",
       "      <td>3.943556e-17</td>\n",
       "      <td>4.312481e-15</td>\n",
       "      <td>-1.028258e-15</td>\n",
       "    </tr>\n",
       "    <tr>\n",
       "      <th>std</th>\n",
       "      <td>1.000073e+00</td>\n",
       "      <td>1.000073e+00</td>\n",
       "      <td>1.000073e+00</td>\n",
       "    </tr>\n",
       "    <tr>\n",
       "      <th>min</th>\n",
       "      <td>-9.433323e-01</td>\n",
       "      <td>-2.723785e+00</td>\n",
       "      <td>-2.211731e+00</td>\n",
       "    </tr>\n",
       "    <tr>\n",
       "      <th>25%</th>\n",
       "      <td>-6.856496e-01</td>\n",
       "      <td>-7.980317e-01</td>\n",
       "      <td>-8.549248e-01</td>\n",
       "    </tr>\n",
       "    <tr>\n",
       "      <th>50%</th>\n",
       "      <td>-3.225513e-01</td>\n",
       "      <td>-2.773040e-02</td>\n",
       "      <td>1.025680e-01</td>\n",
       "    </tr>\n",
       "    <tr>\n",
       "      <th>75%</th>\n",
       "      <td>3.567939e-01</td>\n",
       "      <td>7.425709e-01</td>\n",
       "      <td>7.315936e-01</td>\n",
       "    </tr>\n",
       "    <tr>\n",
       "      <th>max</th>\n",
       "      <td>9.094579e+00</td>\n",
       "      <td>4.016351e+00</td>\n",
       "      <td>3.765085e+00</td>\n",
       "    </tr>\n",
       "  </tbody>\n",
       "</table>\n",
       "</div>"
      ],
      "text/plain": [
       "            recency     frequency      monetary\n",
       "count  6.889000e+03  6.889000e+03  6.889000e+03\n",
       "mean   3.943556e-17  4.312481e-15 -1.028258e-15\n",
       "std    1.000073e+00  1.000073e+00  1.000073e+00\n",
       "min   -9.433323e-01 -2.723785e+00 -2.211731e+00\n",
       "25%   -6.856496e-01 -7.980317e-01 -8.549248e-01\n",
       "50%   -3.225513e-01 -2.773040e-02  1.025680e-01\n",
       "75%    3.567939e-01  7.425709e-01  7.315936e-01\n",
       "max    9.094579e+00  4.016351e+00  3.765085e+00"
      ]
     },
     "execution_count": 24,
     "metadata": {},
     "output_type": "execute_result"
    }
   ],
   "source": [
    "feats = [\"recency\", \"frequency\", \"monetary\"]\n",
    "X = drfm[feats].values\n",
    "\n",
    "X_std = StandardScaler().fit_transform(X)\n",
    "X_std = pd.DataFrame(data = X_std, columns = feats)\n",
    "X_std.describe()"
   ]
  },
  {
   "cell_type": "markdown",
   "id": "unlike-fever",
   "metadata": {},
   "source": [
    "# K-Means"
   ]
  },
  {
   "cell_type": "code",
   "execution_count": 43,
   "id": "rational-market",
   "metadata": {},
   "outputs": [
    {
     "data": {
      "image/png": "[encoded data removed]",
      "text/plain": [
       "<Figure size 864x432 with 1 Axes>"
      ]
     },
     "metadata": {
      "needs_background": "light"
     },
     "output_type": "display_data"
    }
   ],
   "source": [
    "inertia = []\n",
    "\n",
    "for i in range(1,11):\n",
    "    kmeans = KMeans(n_clusters = i,\n",
    "                   init = \"k-means++\",\n",
    "                   max_iter = 300,\n",
    "                   n_init = 10,\n",
    "                   random_state = 0)\n",
    "    kmeans.fit(X_std)\n",
    "    inertia.append(kmeans.inertia_)\n",
    "    \n",
    "plt.figure(figsize = (12,6))\n",
    "plt.plot(inertia)\n",
    "\n",
    "plt.savefig(\"Internal Evaluation of K-Mean.png\")"
   ]
  },
  {
   "cell_type": "markdown",
   "id": "handled-prescription",
   "metadata": {},
   "source": [
    "**With `K-Means` we get the optimal number of clusters are 3 as the segmentationn. We will use this number (called as `k`) to build the model**"
   ]
  },
  {
   "cell_type": "code",
   "execution_count": 26,
   "id": "miniature-solution",
   "metadata": {},
   "outputs": [
    {
     "data": {
      "text/plain": [
       "KMeans(n_clusters=3, random_state=0)"
      ]
     },
     "execution_count": 26,
     "metadata": {},
     "output_type": "execute_result"
    }
   ],
   "source": [
    "kmeans = KMeans(n_clusters = 3,\n",
    "               init = \"k-means++\",\n",
    "               max_iter = 300,\n",
    "               n_init = 10,\n",
    "               random_state = 0)\n",
    "kmeans.fit(X_std)"
   ]
  },
  {
   "cell_type": "code",
   "execution_count": 27,
   "id": "informative-combining",
   "metadata": {},
   "outputs": [
    {
     "name": "stdout",
     "output_type": "stream",
     "text": [
      "Assigned cluster labels: \n",
      " [1 1 1 ... 0 2 2]\n"
     ]
    }
   ],
   "source": [
    "cluster_labels = kmeans.labels_\n",
    "print(\"Assigned cluster labels: \\n\", cluster_labels)"
   ]
  },
  {
   "cell_type": "code",
   "execution_count": 28,
   "id": "brazilian-turning",
   "metadata": {},
   "outputs": [
    {
     "name": "stdout",
     "output_type": "stream",
     "text": [
      "Location of Centroids: \n",
      "[[ 2.10585297 -0.9278853  -0.89189372]\n",
      " [-0.28313201  0.81982225  0.84443274]\n",
      " [-0.25710187 -0.70935748 -0.74860646]]\n"
     ]
    }
   ],
   "source": [
    "centroids = kmeans.cluster_centers_\n",
    "print(\"Location of Centroids: \")\n",
    "print(centroids)"
   ]
  },
  {
   "cell_type": "code",
   "execution_count": 29,
   "id": "refined-criminal",
   "metadata": {},
   "outputs": [
    {
     "data": {
      "text/plain": [
       "array([ 2.10585297, -0.28313201, -0.25710187])"
      ]
     },
     "execution_count": 29,
     "metadata": {},
     "output_type": "execute_result"
    }
   ],
   "source": [
    "centroids[:,0]"
   ]
  },
  {
   "cell_type": "code",
   "execution_count": 30,
   "id": "supported-ordering",
   "metadata": {},
   "outputs": [],
   "source": [
    "X_std['clusters'] = cluster_labels"
   ]
  },
  {
   "cell_type": "code",
   "execution_count": 31,
   "id": "concrete-clear",
   "metadata": {},
   "outputs": [
    {
     "data": {
      "text/html": [
       "<div>\n",
       "<style scoped>\n",
       "    .dataframe tbody tr th:only-of-type {\n",
       "        vertical-align: middle;\n",
       "    }\n",
       "\n",
       "    .dataframe tbody tr th {\n",
       "        vertical-align: top;\n",
       "    }\n",
       "\n",
       "    .dataframe thead th {\n",
       "        text-align: right;\n",
       "    }\n",
       "</style>\n",
       "<table border=\"1\" class=\"dataframe\">\n",
       "  <thead>\n",
       "    <tr style=\"text-align: right;\">\n",
       "      <th></th>\n",
       "      <th>recency</th>\n",
       "      <th>frequency</th>\n",
       "      <th>monetary</th>\n",
       "      <th>clusters</th>\n",
       "    </tr>\n",
       "  </thead>\n",
       "  <tbody>\n",
       "    <tr>\n",
       "      <th>0</th>\n",
       "      <td>0.356794</td>\n",
       "      <td>1.320297</td>\n",
       "      <td>0.982774</td>\n",
       "      <td>1</td>\n",
       "    </tr>\n",
       "    <tr>\n",
       "      <th>1</th>\n",
       "      <td>-0.931619</td>\n",
       "      <td>1.512872</td>\n",
       "      <td>1.163109</td>\n",
       "      <td>1</td>\n",
       "    </tr>\n",
       "    <tr>\n",
       "      <th>2</th>\n",
       "      <td>-0.697362</td>\n",
       "      <td>0.935146</td>\n",
       "      <td>1.006390</td>\n",
       "      <td>1</td>\n",
       "    </tr>\n",
       "    <tr>\n",
       "      <th>3</th>\n",
       "      <td>-0.041443</td>\n",
       "      <td>0.357420</td>\n",
       "      <td>0.540524</td>\n",
       "      <td>1</td>\n",
       "    </tr>\n",
       "    <tr>\n",
       "      <th>4</th>\n",
       "      <td>-0.861342</td>\n",
       "      <td>1.127722</td>\n",
       "      <td>1.564569</td>\n",
       "      <td>1</td>\n",
       "    </tr>\n",
       "  </tbody>\n",
       "</table>\n",
       "</div>"
      ],
      "text/plain": [
       "    recency  frequency  monetary  clusters\n",
       "0  0.356794   1.320297  0.982774         1\n",
       "1 -0.931619   1.512872  1.163109         1\n",
       "2 -0.697362   0.935146  1.006390         1\n",
       "3 -0.041443   0.357420  0.540524         1\n",
       "4 -0.861342   1.127722  1.564569         1"
      ]
     },
     "execution_count": 31,
     "metadata": {},
     "output_type": "execute_result"
    }
   ],
   "source": [
    "X_std.head()"
   ]
  },
  {
   "cell_type": "markdown",
   "id": "completed-detroit",
   "metadata": {},
   "source": [
    "**Visualize to see the relation between features with scatterplot for every 2 different features**"
   ]
  },
  {
   "cell_type": "code",
   "execution_count": 32,
   "id": "large-neighbor",
   "metadata": {},
   "outputs": [
    {
     "data": {
      "image/png": "[encoded data removed]",
      "text/plain": [
       "<Figure size 864x720 with 3 Axes>"
      ]
     },
     "metadata": {
      "needs_background": "light"
     },
     "output_type": "display_data"
    }
   ],
   "source": [
    "fig, (ax0, ax1, ax2) = plt.subplots(3);\n",
    "fig.suptitle(\"Scatter Plot of Segments based on RFM Scores\");\n",
    "\n",
    "k=3\n",
    "\n",
    "X_std.plot.scatter(x = 'recency',\n",
    "                   y = 'frequency',\n",
    "                   c = X_std['clusters'],\n",
    "                   colormap = \"viridis\",\n",
    "                   ax = ax0,\n",
    "                   colorbar = False,\n",
    "                   figsize = (12,10)\n",
    "                  );\n",
    "ax0.scatter(centroids[:,0], centroids[:,1], marker=\"o\", s=350, alpha=0.8,\n",
    "            c=range(0,k), cmap=\"viridis\"\n",
    "           );\n",
    "\n",
    "X_std.plot.scatter(x = 'recency',\n",
    "                   y = 'monetary',\n",
    "                   c = X_std['clusters'],\n",
    "                   colormap = \"viridis\",\n",
    "                   ax = ax1,\n",
    "                   colorbar = False,\n",
    "                   figsize = (12,10)\n",
    "                  );\n",
    "ax1.scatter(centroids[:,0], centroids[:,1], marker=\"o\", s=350, alpha=0.8,\n",
    "            c=range(0,k), cmap=\"viridis\"\n",
    "           );\n",
    "\n",
    "\n",
    "X_std.plot.scatter(x = 'frequency',\n",
    "                   y = 'monetary',\n",
    "                   c = X_std['clusters'],\n",
    "                   colormap = \"viridis\",\n",
    "                   ax = ax2,\n",
    "                   colorbar = False,\n",
    "                   figsize = (12,10)\n",
    "                  );\n",
    "ax2.scatter(centroids[:,0], centroids[:,1], marker=\"o\", s=350, alpha=0.8,\n",
    "            c=range(0,k), cmap=\"viridis\"\n",
    "           );\n"
   ]
  },
  {
   "cell_type": "code",
   "execution_count": 44,
   "id": "nominated-accordance",
   "metadata": {},
   "outputs": [
    {
     "data": {
      "image/png": "[encoded data removed]",
      "text/plain": [
       "<Figure size 432x288 with 1 Axes>"
      ]
     },
     "metadata": {
      "needs_background": "light"
     },
     "output_type": "display_data"
    }
   ],
   "source": [
    "sns.scatterplot(data=X_std, x='recency', y='frequency', hue='clusters')\n",
    "\n",
    "plt.savefig(\"Segmentation with K-Means.png\")"
   ]
  },
  {
   "cell_type": "markdown",
   "id": "vulnerable-explanation",
   "metadata": {},
   "source": [
    "**We get clearly 3 segmentations**"
   ]
  },
  {
   "cell_type": "code",
   "execution_count": 34,
   "id": "vital-values",
   "metadata": {},
   "outputs": [
    {
     "data": {
      "text/plain": [
       "array([1, 0, 2])"
      ]
     },
     "execution_count": 34,
     "metadata": {},
     "output_type": "execute_result"
    }
   ],
   "source": [
    "drfm['cluster'] = cluster_labels\n",
    "drfm.cluster.unique()"
   ]
  },
  {
   "cell_type": "code",
   "execution_count": 35,
   "id": "talented-sustainability",
   "metadata": {},
   "outputs": [],
   "source": [
    "drfm['cust_segmentation'] = cluster_labels\n",
    "drfm['cust_segmentation'].replace({\n",
    "    0: \"Bronze\",\n",
    "    2: \"Silver\",\n",
    "    1: \"Gold\"\n",
    "}, inplace=True)"
   ]
  },
  {
   "cell_type": "code",
   "execution_count": 47,
   "id": "focused-hardwood",
   "metadata": {},
   "outputs": [
    {
     "data": {
      "image/png": "[encoded data removed]",
      "text/plain": [
       "<Figure size 432x288 with 1 Axes>"
      ]
     },
     "metadata": {
      "needs_background": "light"
     },
     "output_type": "display_data"
    }
   ],
   "source": [
    "drfm.groupby(\"cust_segmentation\").cluster.count().plot.bar()\n",
    "plt.xlabel(\"Customer Segmentation\")\n",
    "plt.xticks(rotation=0)\n",
    "plt.ylabel(\"Number of Customers\")\n",
    "plt.title(\"Segmentation Summary\")\n",
    "\n",
    "plt.savefig(\"Segmentation Summary.png\")"
   ]
  },
  {
   "cell_type": "markdown",
   "id": "sweet-federation",
   "metadata": {},
   "source": [
    "# Agglomerative"
   ]
  },
  {
   "cell_type": "code",
   "execution_count": 49,
   "id": "native-salem",
   "metadata": {},
   "outputs": [
    {
     "name": "stdout",
     "output_type": "stream",
     "text": [
      "[0 0 0 ... 2 1 1]\n"
     ]
    }
   ],
   "source": [
    "from sklearn.cluster import AgglomerativeClustering\n",
    "ac = AgglomerativeClustering(n_clusters = 3)\n",
    "ac_class = ac.fit(X_std)\n",
    "\n",
    "print(ac_class)"
   ]
  },
  {
   "cell_type": "code",
   "execution_count": 51,
   "id": "judicial-gamma",
   "metadata": {},
   "outputs": [
    {
     "name": "stdout",
     "output_type": "stream",
     "text": [
      "AgglomerativeClustering(n_clusters=3)\n"
     ]
    },
    {
     "data": {
      "image/png": "[encoded data removed]",
      "text/plain": [
       "<Figure size 504x360 with 1 Axes>"
      ]
     },
     "metadata": {
      "needs_background": "light"
     },
     "output_type": "display_data"
    },
    {
     "data": {
      "text/plain": [
       "<Figure size 432x288 with 0 Axes>"
      ]
     },
     "metadata": {},
     "output_type": "display_data"
    }
   ],
   "source": [
    "import scipy.cluster.hierarchy as sch\n",
    "from sklearn.cluster import AgglomerativeClustering\n",
    "import matplotlib.pyplot as plt\n",
    "\n",
    "ac = AgglomerativeClustering(n_clusters = 3)\n",
    "ac_class = ac.fit(X_std)\n",
    "\n",
    "print(ac_class)\n",
    "\n",
    "plt.figure(figsize=(7,5))\n",
    "dend = sch.dendrogram(sch.linkage(X_std, method='ward'))\n",
    "plt.show()\n",
    "\n",
    "plt.savefig(\"Number of Clusters based on Dendograms.png\")"
   ]
  },
  {
   "cell_type": "code",
   "execution_count": 46,
   "id": "distant-government",
   "metadata": {},
   "outputs": [
    {
     "data": {
      "image/png": "[encoded data removed]",
      "text/plain": [
       "<Figure size 432x288 with 1 Axes>"
      ]
     },
     "metadata": {
      "needs_background": "light"
     },
     "output_type": "display_data"
    }
   ],
   "source": [
    "sns.scatterplot(data=X_std,\n",
    "               x = 'recency',\n",
    "               y ='frequency',\n",
    "               hue = 'clusters')\n",
    "\n",
    "plt.savefig(\"Segmentation with Agglomerative.png\")"
   ]
  },
  {
   "cell_type": "code",
   "execution_count": 39,
   "id": "quick-diagram",
   "metadata": {},
   "outputs": [
    {
     "data": {
      "text/plain": [
       "<AxesSubplot:xlabel='features', ylabel='value'>"
      ]
     },
     "execution_count": 39,
     "metadata": {},
     "output_type": "execute_result"
    },
    {
     "data": {
      "image/png": "[encoded data removed]",
      "text/plain": [
       "<Figure size 432x288 with 1 Axes>"
      ]
     },
     "metadata": {
      "needs_background": "light"
     },
     "output_type": "display_data"
    }
   ],
   "source": [
    "drfm_melted = pd.melt(\n",
    "    drfm.reset_index(),\n",
    "    id_vars = 'cust_segmentation',\n",
    "    value_vars = [\"recency\", \"frequency\", \"monetary\"],\n",
    "    var_name = ['features'],\n",
    "    value_name = \"value\"\n",
    ")\n",
    "\n",
    "sns.lineplot('features', 'value', hue='cust_segmentation', data = drfm_melted)"
   ]
  },
  {
   "cell_type": "markdown",
   "id": "looking-surgery",
   "metadata": {},
   "source": [
    "**Use `pandas.melt` to unpivot the `drfm` dataframe for lineplot purpose, to see the different between RFM features**"
   ]
  },
  {
   "cell_type": "markdown",
   "id": "ancient-services",
   "metadata": {},
   "source": [
    "# Summary"
   ]
  },
  {
   "cell_type": "markdown",
   "id": "auburn-monday",
   "metadata": {},
   "source": [
    "1. With `K-Means` we get the optimal number of clusters are 3, and means to be there will be 3 segmentations from the data. I called this segementation as below:\n",
    "    * **Bronze for lower segmentation (clluster 0)**<br>\n",
    "        High recency, low frquency, high monetary\n",
    "    * **Silver for middle segmentation (clluster 1)**<br>\n",
    "        low recency, low frequency, high monetary\n",
    "    * **Gold for higher segmentation (clluster 2)**<br>\n",
    "        low recency, low frequency, higher monetary\n",
    "<br>\n",
    "<br>\n",
    "2. Actions may be taken:\n",
    "    * **Bronze**<br>\n",
    "        -> take a look if there are any issues around the product/service<br>\n",
    "        -> engage them with related promotion cupon based on the previous transaction\n",
    "    * **Silver**<br>\n",
    "        -> give them more related promotion cupon to improve their transactions amount so eventually they become gold customers\n",
    "    * **Gold**<br>\n",
    "        -> give them any rewards as their loyalty to deal their transactions on the service"
   ]
  },
  {
   "cell_type": "code",
   "execution_count": null,
   "id": "careful-harassment",
   "metadata": {},
   "outputs": [],
   "source": []
  }
 ],
 "metadata": {
  "kernelspec": {
   "display_name": "Python 3",
   "language": "python",
   "name": "python3"
  },
  "language_info": {
   "codemirror_mode": {
    "name": "ipython",
    "version": 3
   },
   "file_extension": ".py",
   "mimetype": "text/x-python",
   "name": "python",
   "nbconvert_exporter": "python",
   "pygments_lexer": "ipython3",
   "version": "3.7.1"
  },
  "toc": {
   "base_numbering": 1,
   "nav_menu": {},
   "number_sections": true,
   "sideBar": true,
   "skip_h1_title": false,
   "title_cell": "Table of Contents",
   "title_sidebar": "Contents",
   "toc_cell": false,
   "toc_position": {},
   "toc_section_display": true,
   "toc_window_display": true
  }
 },
 "nbformat": 4,
 "nbformat_minor": 5
}
